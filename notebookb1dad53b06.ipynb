{
  "nbformat": 4,
  "nbformat_minor": 0,
  "metadata": {
    "kernelspec": {
      "display_name": "Python 3",
      "language": "python",
      "name": "python3"
    },
    "language_info": {
      "codemirror_mode": {
        "name": "ipython",
        "version": 3
      },
      "file_extension": ".py",
      "mimetype": "text/x-python",
      "name": "python",
      "nbconvert_exporter": "python",
      "pygments_lexer": "ipython3",
      "version": "3.6.5"
    },
    "colab": {
      "name": "notebookb1dad53b06.ipynb",
      "provenance": [],
      "collapsed_sections": [],
      "include_colab_link": true
    }
  },
  "cells": [
    {
      "cell_type": "markdown",
      "metadata": {
        "id": "view-in-github",
        "colab_type": "text"
      },
      "source": [
        "<a href=\"https://colab.research.google.com/github/gangadharashettypj/labs/blob/master/notebookb1dad53b06.ipynb\" target=\"_parent\"><img src=\"https://colab.research.google.com/assets/colab-badge.svg\" alt=\"Open In Colab\"/></a>"
      ]
    },
    {
      "cell_type": "code",
      "metadata": {
        "id": "deyv6eVhQcjV"
      },
      "source": [
        "# Spam Filter using Naive Bayes Classifier"
      ],
      "execution_count": null,
      "outputs": []
    },
    {
      "cell_type": "markdown",
      "metadata": {
        "_uuid": "52bd1fe4c789af10c8f6bcebe9e3c8fd3c101781",
        "id": "Mq9KwYsFQcjt"
      },
      "source": [
        "**Import libraries**"
      ]
    },
    {
      "cell_type": "code",
      "metadata": {
        "trusted": true,
        "_uuid": "11ce4eaf13356cd47e341aea85670f36a13164d8",
        "colab": {
          "base_uri": "https://localhost:8080/"
        },
        "id": "v6YFQNA6Qcjx",
        "outputId": "e1d5bfb9-13de-4561-a535-115d53df020e"
      },
      "source": [
        "import numpy as np\n",
        "import pandas as pd\n",
        "import matplotlib.pyplot as plt\n",
        "import seaborn as sns\n",
        "%matplotlib inline\n",
        "import nltk\n",
        "nltk.download('stopwords')\n",
        "from sklearn.feature_extraction.text import TfidfVectorizer"
      ],
      "execution_count": null,
      "outputs": [
        {
          "output_type": "stream",
          "text": [
            "[nltk_data] Downloading package stopwords to /root/nltk_data...\n",
            "[nltk_data]   Package stopwords is already up-to-date!\n"
          ],
          "name": "stdout"
        }
      ]
    },
    {
      "cell_type": "markdown",
      "metadata": {
        "_uuid": "6213264582afb6541e4ae286710ac0051a859685",
        "id": "-_EyPb1qQcjz"
      },
      "source": [
        "**Read csv file**"
      ]
    },
    {
      "cell_type": "code",
      "metadata": {
        "trusted": true,
        "_uuid": "8163f26bff8891be58ce9cbf544d8a67f71974ec",
        "colab": {
          "base_uri": "https://localhost:8080/",
          "height": 204
        },
        "id": "0bunlo56Qcjz",
        "outputId": "604bb9cb-97df-4463-9b54-4b9725f8796e"
      },
      "source": [
        "df = pd.read_csv('https://raw.githubusercontent.com/gangadharashettypj/nestbees_privacy_policy/master/emails.csv', encoding='latin-1')[['text', 'spam']]\n",
        "df.columns = ['message', 'label']\n",
        "df['label'] = df['label'].map({0:'ham', 1:'spam'})\n",
        "df.head()"
      ],
      "execution_count": null,
      "outputs": [
        {
          "output_type": "execute_result",
          "data": {
            "text/html": [
              "<div>\n",
              "<style scoped>\n",
              "    .dataframe tbody tr th:only-of-type {\n",
              "        vertical-align: middle;\n",
              "    }\n",
              "\n",
              "    .dataframe tbody tr th {\n",
              "        vertical-align: top;\n",
              "    }\n",
              "\n",
              "    .dataframe thead th {\n",
              "        text-align: right;\n",
              "    }\n",
              "</style>\n",
              "<table border=\"1\" class=\"dataframe\">\n",
              "  <thead>\n",
              "    <tr style=\"text-align: right;\">\n",
              "      <th></th>\n",
              "      <th>message</th>\n",
              "      <th>label</th>\n",
              "    </tr>\n",
              "  </thead>\n",
              "  <tbody>\n",
              "    <tr>\n",
              "      <th>0</th>\n",
              "      <td>Subject: naturally irresistible your corporate...</td>\n",
              "      <td>spam</td>\n",
              "    </tr>\n",
              "    <tr>\n",
              "      <th>1</th>\n",
              "      <td>Subject: the stock trading gunslinger  fanny i...</td>\n",
              "      <td>spam</td>\n",
              "    </tr>\n",
              "    <tr>\n",
              "      <th>2</th>\n",
              "      <td>Subject: unbelievable new homes made easy  im ...</td>\n",
              "      <td>spam</td>\n",
              "    </tr>\n",
              "    <tr>\n",
              "      <th>3</th>\n",
              "      <td>Subject: 4 color printing special  request add...</td>\n",
              "      <td>spam</td>\n",
              "    </tr>\n",
              "    <tr>\n",
              "      <th>4</th>\n",
              "      <td>Subject: do not have money , get software cds ...</td>\n",
              "      <td>spam</td>\n",
              "    </tr>\n",
              "  </tbody>\n",
              "</table>\n",
              "</div>"
            ],
            "text/plain": [
              "                                             message label\n",
              "0  Subject: naturally irresistible your corporate...  spam\n",
              "1  Subject: the stock trading gunslinger  fanny i...  spam\n",
              "2  Subject: unbelievable new homes made easy  im ...  spam\n",
              "3  Subject: 4 color printing special  request add...  spam\n",
              "4  Subject: do not have money , get software cds ...  spam"
            ]
          },
          "metadata": {
            "tags": []
          },
          "execution_count": 19
        }
      ]
    },
    {
      "cell_type": "markdown",
      "metadata": {
        "_uuid": "60d48951ca5086115e08ede667a162ee9b92073a",
        "id": "HaLRelX5Qcj2"
      },
      "source": [
        "1. Clean and Normalize text\n",
        "2. Convert text into vectors (using bag of words model) that machine learning models can understand\n",
        "3. Train and test Classifier"
      ]
    },
    {
      "cell_type": "markdown",
      "metadata": {
        "_uuid": "519a4d4c06557a8623252baaff13054162cf7ab5",
        "id": "ko4mNMPDQcj2"
      },
      "source": [
        "**Process function do following things**\n",
        "1. Remove punctuations\n",
        "2. Remove all stopwords\n",
        "3. Apply [stemming](https://en.wikipedia.org/wiki/Stemming) (converting to normal form of word). <br>\n",
        "   For example, 'driving car' and 'drives car' becomes drive car<br>"
      ]
    },
    {
      "cell_type": "code",
      "metadata": {
        "trusted": true,
        "_uuid": "500971b5d102765bb5e6537943dd3e3d7ce9af02",
        "id": "PC9cxqBWQcj6"
      },
      "source": [
        "import string\n",
        "from nltk.corpus import stopwords\n",
        "from nltk import PorterStemmer as Stemmer\n",
        "def process(text):\n",
        "    text = text.lower()\n",
        "    # remove punctuation\n",
        "    text = ''.join([t for t in text if t not in string.punctuation])\n",
        "    # remove stopwords\n",
        "    text = [t for t in text.split() if t not in stopwords.words('english')]\n",
        "    # stemming\n",
        "    st = Stemmer()\n",
        "    text = [st.stem(t) for t in text]\n",
        "    return text"
      ],
      "execution_count": null,
      "outputs": []
    },
    {
      "cell_type": "code",
      "metadata": {
        "trusted": true,
        "_uuid": "21d1a8ec02208c20664d67770a94fc0261920f1a",
        "colab": {
          "base_uri": "https://localhost:8080/"
        },
        "id": "1CR6N-goQcj9",
        "outputId": "a1535173-7d73-4918-80cc-60a29a2bc3fe"
      },
      "source": [
        "process('It\\'s holiday and we are playing cricket. Jeff is playing very well!!!')"
      ],
      "execution_count": null,
      "outputs": [
        {
          "output_type": "execute_result",
          "data": {
            "text/plain": [
              "['holiday', 'play', 'cricket', 'jeff', 'play', 'well']"
            ]
          },
          "metadata": {
            "tags": []
          },
          "execution_count": 22
        }
      ]
    },
    {
      "cell_type": "markdown",
      "metadata": {
        "_uuid": "99201820a778649a32132381142034c46ec69c7b",
        "id": "rQCminKNQckD"
      },
      "source": [
        "**Fit and transform EMAIL corpus**"
      ]
    },
    {
      "cell_type": "code",
      "metadata": {
        "trusted": true,
        "_uuid": "0afb400d1c0b2e74bccc09e44b1698616034b003",
        "id": "Q_8gt6CjQckF"
      },
      "source": [
        "tfidfv = TfidfVectorizer(analyzer=process)\n",
        "data = tfidfv.fit_transform(df['message'])"
      ],
      "execution_count": null,
      "outputs": []
    },
    {
      "cell_type": "code",
      "metadata": {
        "trusted": true,
        "_uuid": "5685a89bdfa619ae1413437aee6d4024077c73d3",
        "id": "rrwnsSgjQckM"
      },
      "source": [
        "from sklearn.pipeline import Pipeline\n",
        "from sklearn.naive_bayes import MultinomialNB\n",
        "spam_filter = Pipeline([\n",
        "    ('vectorizer', TfidfVectorizer(analyzer=process)), \n",
        "    ('classifier', MultinomialNB())                    \n",
        "])"
      ],
      "execution_count": null,
      "outputs": []
    },
    {
      "cell_type": "markdown",
      "metadata": {
        "_uuid": "8707bbc4eb1ad42849c45793ff7c78e6977de6a1",
        "id": "rw99TKO4QckN"
      },
      "source": [
        "**Perform train test split**"
      ]
    },
    {
      "cell_type": "code",
      "metadata": {
        "trusted": true,
        "_uuid": "c946f692d4c604cb5c0b94d14ad049ae54db140c",
        "id": "XtfXg5ObQckO"
      },
      "source": [
        "from sklearn.model_selection import train_test_split\n",
        "x_train, x_test, y_train, y_test = train_test_split(df['message'], df['label'], test_size=0.20, random_state = 21)"
      ],
      "execution_count": null,
      "outputs": []
    },
    {
      "cell_type": "markdown",
      "metadata": {
        "_uuid": "ab41b3101572b0a7172e4936d2abd58995ec78b6",
        "id": "NKulfbKeQckP"
      },
      "source": [
        "**Train spam_filter**"
      ]
    },
    {
      "cell_type": "code",
      "metadata": {
        "trusted": true,
        "_uuid": "577d06464b3350f7c40b583818b75d97875205a0",
        "colab": {
          "base_uri": "https://localhost:8080/"
        },
        "id": "T8F448_EQckP",
        "outputId": "b8a04bf7-c45a-4fe1-89f4-3c6acb008fa7"
      },
      "source": [
        "spam_filter.fit(x_train, y_train)"
      ],
      "execution_count": null,
      "outputs": [
        {
          "output_type": "execute_result",
          "data": {
            "text/plain": [
              "Pipeline(memory=None,\n",
              "         steps=[('vectorizer',\n",
              "                 TfidfVectorizer(analyzer=<function process at 0x7f19fa64f440>,\n",
              "                                 binary=False, decode_error='strict',\n",
              "                                 dtype=<class 'numpy.float64'>,\n",
              "                                 encoding='utf-8', input='content',\n",
              "                                 lowercase=True, max_df=1.0, max_features=None,\n",
              "                                 min_df=1, ngram_range=(1, 1), norm='l2',\n",
              "                                 preprocessor=None, smooth_idf=True,\n",
              "                                 stop_words=None, strip_accents=None,\n",
              "                                 sublinear_tf=False,\n",
              "                                 token_pattern='(?u)\\\\b\\\\w\\\\w+\\\\b',\n",
              "                                 tokenizer=None, use_idf=True,\n",
              "                                 vocabulary=None)),\n",
              "                ('classifier',\n",
              "                 MultinomialNB(alpha=1.0, class_prior=None, fit_prior=True))],\n",
              "         verbose=False)"
            ]
          },
          "metadata": {
            "tags": []
          },
          "execution_count": 26
        }
      ]
    },
    {
      "cell_type": "markdown",
      "metadata": {
        "_uuid": "d8278911d15092c3c4b226636bab9c79b4dd310b",
        "id": "US0vp8PqQckQ"
      },
      "source": [
        "**Predict for test cases**"
      ]
    },
    {
      "cell_type": "code",
      "metadata": {
        "trusted": true,
        "_uuid": "0591c0c7bb36f033051855728908c2ef0b1fa2f5",
        "id": "1rKo1qbPQckR"
      },
      "source": [
        "predictions = spam_filter.predict(x_test)"
      ],
      "execution_count": null,
      "outputs": []
    },
    {
      "cell_type": "code",
      "metadata": {
        "colab": {
          "base_uri": "https://localhost:8080/"
        },
        "id": "4a2KPwrTXUb0",
        "outputId": "a3561554-5838-4340-fd10-cff041bc1901"
      },
      "source": [
        "predictions"
      ],
      "execution_count": null,
      "outputs": [
        {
          "output_type": "execute_result",
          "data": {
            "text/plain": [
              "array(['spam', 'ham', 'ham', ..., 'ham', 'ham', 'ham'], dtype='<U4')"
            ]
          },
          "metadata": {
            "tags": []
          },
          "execution_count": 36
        }
      ]
    },
    {
      "cell_type": "code",
      "metadata": {
        "trusted": true,
        "_uuid": "0b5dd451d1f1cf5cc1d7548720474bd0293b18b9",
        "colab": {
          "base_uri": "https://localhost:8080/"
        },
        "id": "F-_c6hEfQckS",
        "outputId": "acf67f97-1e55-4fcd-af50-139713b8a5de"
      },
      "source": [
        "count = 0\n",
        "for i in range(len(y_test)):\n",
        "    if y_test.iloc[i] != predictions[i]:\n",
        "        count += 1\n",
        "print('Total number of test cases', len(y_test))\n",
        "print('Number of wrong of predictions', count)\n",
        "print('Accuracy ', (len(y_test)-count)/len(y_test)*100)"
      ],
      "execution_count": null,
      "outputs": [
        {
          "output_type": "stream",
          "text": [
            "Total number of test cases 1146\n",
            "Number of wrong of predictions 141\n",
            "Accuracy  87.69633507853402\n"
          ],
          "name": "stdout"
        }
      ]
    },
    {
      "cell_type": "markdown",
      "metadata": {
        "_uuid": "0eb6dde3ac2244ebfe7f1ec9bf015719018d899b",
        "id": "EXb_nThVQckW"
      },
      "source": [
        "Function to predict whether passed message is ham or spam"
      ]
    },
    {
      "cell_type": "code",
      "metadata": {
        "trusted": true,
        "_uuid": "f471837c49484f5fbdcd71b21b649c1dd5cf0a02",
        "colab": {
          "base_uri": "https://localhost:8080/",
          "height": 35
        },
        "id": "cI1-AKfAQckX",
        "outputId": "cba4b7ac-ad5c-410a-fc40-fc51db578714"
      },
      "source": [
        "def detect_spam(s):\n",
        "    return spam_filter.predict([s])[0]\n",
        "detect_spam('Subject: naturally irresistible your corporate identity  lt is really hard to recollect a company : the  market is full of suqgestions and the information isoverwhelminq ; but a good  catchy logo , stylish statlonery and outstanding website  will make the task much easier .  we do not promise that havinq ordered a iogo your  company will automaticaily become a world ieader : it isguite ciear that  without good products , effective business organization and practicable aim it  will be hotat nowadays market ; but we do promise that your marketing efforts  will become much more effective . here is the list of clear  benefits : creativeness : hand - made , original logos , specially done  to reflect your distinctive company image . convenience : logo and stationery  are provided in all formats ; easy - to - use content management system letsyou  change your website content and even its structure . promptness : you  will see logo drafts within three business days . affordability : your  marketing break - through shouldn ')"
      ],
      "execution_count": null,
      "outputs": [
        {
          "output_type": "execute_result",
          "data": {
            "application/vnd.google.colaboratory.intrinsic+json": {
              "type": "string"
            },
            "text/plain": [
              "'spam'"
            ]
          },
          "metadata": {
            "tags": []
          },
          "execution_count": 35
        }
      ]
    }
  ]
}